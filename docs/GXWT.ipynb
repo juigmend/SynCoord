{
 "cells": [
  {
   "cell_type": "markdown",
   "id": "78b9ba22-dede-4270-98d5-c862e34c25ab",
   "metadata": {},
   "source": [
    "<center>\n",
    "\n",
    "*******************************************************************************************\n",
    "<font size=\"4\">\n",
    "Generalised Cross-Wavelet Spectrum &nbsp; &nbsp; <br>\n",
    "</font>\n",
    "\n",
    "##### 25 July 2025\n",
    "\n",
    "##### Juan Ignacio Mendoza Garay\n",
    "\n",
    "*******************************************************************************************\n",
    "\n",
    "</center>\n",
    "\n",
    "##### INFORMATION:\n",
    "\n",
    "* The Generalised Cross-Wavelet Transform (GXWT) measures the interaction of two periodic signals at different time-scales, taking into account amplitude and absolute-valued phase coherence (when the phase difference is pi radians, it is considered in-phase).\n",
    ">\n",
    "* Dependencies:\n",
    "    * [Generalised Cross-Wavelet Transform Matlab Functions](https://www.sciencedirect.com/science/article/pii/S0167945721001421?via%3Dihub#s0070) (\"[external Matlab functions](#Specify-path-for-external-Matlab-functions)\")\n",
    "    * [Matlab](https://se.mathworks.com/products/matlab.html)\n",
    "    * [Matlab Engine for Python](https://se.mathworks.com/help/matlab/matlab_external/install-the-matlab-engine-for-python.html)\n",
    ">\n",
    "* Tested with:\n",
    "    * Python 3.11\n",
    "    * Matlab 2024b\n",
    "    * Windows 11\n",
    ">\n",
    "* Reference:\n",
    "    * Toiviainen, P., & Hartmann, M. (2022). Analyzing multidimensional movement interaction with generalized cross-wavelet transform. *Human Movement Science, 81*, 102894.\n",
    ">\n",
    "* Instructions:\n",
    "    * Ensure that the dependecies are installed, then [specify the path for the external Matlab functions](#Specify-path-for-external-Matlab-functions).\n",
    "    * Edit the values indicated with an arrow like this: <---\n",
    "\n",
    "*******************************************************************************************"
   ]
  },
  {
   "cell_type": "markdown",
   "id": "1c322e46-96d7-4389-acfe-4fc8e8d43f22",
   "metadata": {},
   "source": [
    "#### <ins> Matlab Engine Installation Notes </ins>\n",
    "\n",
    "In the instructions below, the commands have to be typed in a command prompt program.\n",
    "\n",
    "* [Installation instructions](https://se.mathworks.com/help/matlab/matlab_external/install-the-matlab-engine-for-python.html)\n",
    "* [Adding path in user account doesn't need administrator privilege.](https://se.mathworks.com/help/matlab/matlab_external/install-the-matlab-engine-for-python.html)\n",
    "\n",
    "* If running Python in Anaconda environment:\n",
    "\n",
    "    * [Path for Python interpreter](https://www.anaconda.com/docs/tools/working-with-conda/ide-tutorials/python-path)\n",
    "    * If pip is not installed in the environment, make sure the environment is activated and install pip  with this command: conda install pip\n",
    "\n",
    "* If \"RuntimeError: No compatible MATLAB installation [...] This release of MATLAB Engine API for Python is compatible with version [XX]. The found versions were [YY]\", use these commands:\n",
    "    * to check installed Matlab's version: matlab -help\n",
    "    * to install: python -m pip install matlabengine==[ZZ]\n",
    "        * Note that [ZZ] has to be equal to the installed Matlab's version up to the sub-version.\n"
   ]
  },
  {
   "cell_type": "code",
   "execution_count": 1,
   "id": "bc509425-fccb-4a32-98d1-f432ab6fbbc4",
   "metadata": {},
   "outputs": [],
   "source": [
    "import sys\n",
    "import numpy as np\n",
    "\n",
    "sys.path.append(r'../src')\n",
    "import syncoord as sc"
   ]
  },
  {
   "cell_type": "markdown",
   "id": "45b143fd-dc63-4b28-b4a6-b112433556cf",
   "metadata": {},
   "source": [
    "***\n",
    "### Specify path for external Matlab functions\n",
    "Found in supplementery material for Toiviainen & Hartmann (2022)."
   ]
  },
  {
   "cell_type": "code",
   "execution_count": 2,
   "id": "4ab6681a-aa8b-4f46-8a0d-ca4d8245a6cb",
   "metadata": {},
   "outputs": [],
   "source": [
    "extfunc_path = r'C:/MyTemp/Matlab' # <--- folder with external Matlab functions"
   ]
  },
  {
   "cell_type": "markdown",
   "id": "0134c548-85ff-460e-97cd-b1af75de446b",
   "metadata": {},
   "source": [
    "***\n",
    "### Generate synthetic data"
   ]
  },
  {
   "cell_type": "code",
   "execution_count": 3,
   "id": "faa63b21-159c-4e5b-b151-24282186d4f3",
   "metadata": {},
   "outputs": [
    {
     "ename": "IndexError",
     "evalue": "tuple index out of range",
     "output_type": "error",
     "traceback": [
      "\u001b[1;31m---------------------------------------------------------------------------\u001b[0m",
      "\u001b[1;31mIndexError\u001b[0m                                Traceback (most recent call last)",
      "Cell \u001b[1;32mIn[3], line 1\u001b[0m\n\u001b[1;32m----> 1\u001b[0m test_data \u001b[38;5;241m=\u001b[39m \u001b[43msc\u001b[49m\u001b[38;5;241;43m.\u001b[39;49m\u001b[43mptdata\u001b[49m\u001b[38;5;241;43m.\u001b[39;49m\u001b[43mload\u001b[49m\u001b[43m(\u001b[49m\u001b[43m \u001b[49m\u001b[38;5;124;43m'\u001b[39;49m\u001b[38;5;124;43mmake\u001b[39;49m\u001b[38;5;124;43m'\u001b[39;49m\u001b[43m,\u001b[49m\u001b[43m \u001b[49m\u001b[43mseed\u001b[49m\u001b[38;5;241;43m=\u001b[39;49m\u001b[38;5;241;43m1\u001b[39;49m\u001b[43m,\u001b[49m\u001b[43m \u001b[49m\u001b[43mprint_info\u001b[49m\u001b[38;5;241;43m=\u001b[39;49m\u001b[38;5;28;43;01mTrue\u001b[39;49;00m\u001b[43m \u001b[49m\u001b[43m)\u001b[49m\n\u001b[0;32m      2\u001b[0m test_data\u001b[38;5;241m.\u001b[39mvisualise( vscale\u001b[38;5;241m=\u001b[39m\u001b[38;5;241m1.2\u001b[39m, dlattr\u001b[38;5;241m=\u001b[39m\u001b[38;5;124m'\u001b[39m\u001b[38;5;124m1.2\u001b[39m\u001b[38;5;124m'\u001b[39m )\n",
      "File \u001b[1;32m~\\local_documents\\SynCoord\\docs\\../src\\syncoord\\ptdata.py:144\u001b[0m, in \u001b[0;36mload\u001b[1;34m(preproc_data, annot_path, max_n_files, print_info, *props, **kwargs)\u001b[0m\n\u001b[0;32m    121\u001b[0m \u001b[38;5;250m\u001b[39m\u001b[38;5;124;03m'''\u001b[39;00m\n\u001b[0;32m    122\u001b[0m \u001b[38;5;124;03mLoad data.\u001b[39;00m\n\u001b[0;32m    123\u001b[0m \u001b[38;5;124;03mArgs:\u001b[39;00m\n\u001b[1;32m   (...)\u001b[0m\n\u001b[0;32m    141\u001b[0m \u001b[38;5;124;03m    PtData object with loaded data.\u001b[39;00m\n\u001b[0;32m    142\u001b[0m \u001b[38;5;124;03m'''\u001b[39;00m\n\u001b[0;32m    143\u001b[0m \u001b[38;5;66;03m# TO-DO: get main name and label from preprocessed data file\u001b[39;00m\n\u001b[1;32m--> 144\u001b[0m load_out \u001b[38;5;241m=\u001b[39m \u001b[43mutils\u001b[49m\u001b[38;5;241;43m.\u001b[39;49m\u001b[43mload_data\u001b[49m\u001b[43m(\u001b[49m\u001b[43m \u001b[49m\u001b[43mpreproc_data\u001b[49m\u001b[43m,\u001b[49m\u001b[43m \u001b[49m\u001b[43mprops\u001b[49m\u001b[43m,\u001b[49m\u001b[43m \u001b[49m\u001b[43mannot_path\u001b[49m\u001b[38;5;241;43m=\u001b[39;49m\u001b[43mannot_path\u001b[49m\u001b[43m,\u001b[49m\n\u001b[0;32m    145\u001b[0m \u001b[43m                            \u001b[49m\u001b[43mmax_n_files\u001b[49m\u001b[38;5;241;43m=\u001b[39;49m\u001b[43mmax_n_files\u001b[49m\u001b[43m,\u001b[49m\u001b[43m \u001b[49m\u001b[43mprint_info\u001b[49m\u001b[38;5;241;43m=\u001b[39;49m\u001b[43mprint_info\u001b[49m\u001b[43m,\u001b[49m\u001b[43m \u001b[49m\u001b[38;5;241;43m*\u001b[39;49m\u001b[38;5;241;43m*\u001b[39;49m\u001b[43mkwargs\u001b[49m\u001b[43m \u001b[49m\u001b[43m)\u001b[49m\n\u001b[0;32m    147\u001b[0m pos \u001b[38;5;241m=\u001b[39m PtData(load_out[\u001b[38;5;241m0\u001b[39m])\n\u001b[0;32m    148\u001b[0m pos\u001b[38;5;241m.\u001b[39mnames\u001b[38;5;241m.\u001b[39mmain \u001b[38;5;241m=\u001b[39m \u001b[38;5;124m'\u001b[39m\u001b[38;5;124m'\u001b[39m\n",
      "File \u001b[1;32m~\\local_documents\\SynCoord\\docs\\../src\\syncoord\\utils.py:377\u001b[0m, in \u001b[0;36mload_data\u001b[1;34m(preproc_data, annot_path, topdata_Name, max_n_files, print_info, *props, **kwargs)\u001b[0m\n\u001b[0;32m    375\u001b[0m             \u001b[38;5;28;01mif\u001b[39;00m k \u001b[38;5;241m==\u001b[39m \u001b[38;5;124m'\u001b[39m\u001b[38;5;124mndim\u001b[39m\u001b[38;5;124m'\u001b[39m: ndim \u001b[38;5;241m=\u001b[39m \u001b[38;5;28mint\u001b[39m(v)\n\u001b[0;32m    376\u001b[0m             \u001b[38;5;28;01melse\u001b[39;00m: props[\u001b[38;5;241m0\u001b[39m][\u001b[38;5;241m0\u001b[39m][k] \u001b[38;5;241m=\u001b[39m v\n\u001b[1;32m--> 377\u001b[0m \u001b[38;5;28;01melif\u001b[39;00m \u001b[38;5;28misinstance\u001b[39m(\u001b[43mprops\u001b[49m\u001b[43m[\u001b[49m\u001b[38;5;241;43m0\u001b[39;49m\u001b[43m]\u001b[49m\u001b[43m[\u001b[49m\u001b[38;5;241;43m0\u001b[39;49m\u001b[43m]\u001b[49m,\u001b[38;5;28mdict\u001b[39m):\n\u001b[0;32m    378\u001b[0m     ndim \u001b[38;5;241m=\u001b[39m props[\u001b[38;5;241m0\u001b[39m][\u001b[38;5;241m0\u001b[39m]\u001b[38;5;241m.\u001b[39mget(\u001b[38;5;124m'\u001b[39m\u001b[38;5;124mndim\u001b[39m\u001b[38;5;124m'\u001b[39m,\u001b[38;5;241m2\u001b[39m)\n\u001b[0;32m    380\u001b[0m \u001b[38;5;28;01mdef\u001b[39;00m\u001b[38;5;250m \u001b[39m\u001b[38;5;21mmake_topinfo_tdv\u001b[39m(\u001b[38;5;241m*\u001b[39m\u001b[38;5;241m*\u001b[39mkwargs):\n",
      "\u001b[1;31mIndexError\u001b[0m: tuple index out of range"
     ]
    }
   ],
   "source": [
    "test_data = sc.ptdata.load( 'make', seed=1, print_info=True )\n",
    "test_data.visualise( vscale=1.2, dlattr='1.2' )"
   ]
  },
  {
   "cell_type": "markdown",
   "id": "83274286-5c2d-4ab4-83ff-d25ab28ee774",
   "metadata": {},
   "source": [
    "***\n",
    "### Pairwise Cross-Wavelet Spectrum"
   ]
  },
  {
   "cell_type": "code",
   "execution_count": null,
   "id": "d7abffec-b692-4cc3-965d-1e93df34af5c",
   "metadata": {},
   "outputs": [],
   "source": [
    "test_data.names.dim"
   ]
  },
  {
   "cell_type": "code",
   "execution_count": null,
   "id": "03986173-8c54-42be-a59a-88c0ad7c98f5",
   "metadata": {},
   "outputs": [],
   "source": [
    "minmaxf = [0.1,10] # <--- minimum and maximum frequencies (Hz)\n",
    "\n",
    "pairs_axis = 0\n",
    "fixed_axes = [-2,-1]\n",
    "xwspectr = sc.ptdata.gxwt( test_data, minmaxf, pairs_axis, fixed_axes, extfunc_path=extfunc_path )\n",
    "xwspectr.visualise( dlattr='1.2' )"
   ]
  },
  {
   "cell_type": "markdown",
   "id": "4f1a5028-37d7-48fb-b2ad-3300000cad52",
   "metadata": {},
   "source": [
    ">\n",
    "#### Average Cross-Wavelet Spectrum for group"
   ]
  },
  {
   "cell_type": "code",
   "execution_count": null,
   "id": "8eb4e7bc-e78a-404c-845d-35eae108bec0",
   "metadata": {},
   "outputs": [],
   "source": [
    "xwspectr_aggr_pairs = sc.ptdata.aggrax( xwspectr, axis=0, function='mean' )\n",
    "xwspectr_aggr_pairs.visualise( vscale=1.4, dlattr='1.2' )"
   ]
  },
  {
   "cell_type": "markdown",
   "id": "4e12a7ef-af66-497c-ae9d-0cf6c281ec43",
   "metadata": {},
   "source": [
    ">\n",
    "#### Average Cross-Wavelet Power for group"
   ]
  },
  {
   "cell_type": "code",
   "execution_count": null,
   "id": "f25d2cd9-7b9d-41d8-8c77-d938921b46eb",
   "metadata": {},
   "outputs": [],
   "source": [
    "xwspectr_aggr_top = sc.ptdata.aggrax( xwspectr_aggr_pairs, axis=0, function='mean' )\n",
    "xwspectr_aggr_top.visualise( vscale=1.3, vistype='line', dlattr='1.2' )"
   ]
  },
  {
   "cell_type": "markdown",
   "id": "5841dc62-28b1-4a36-9339-7bb226a55f9d",
   "metadata": {},
   "source": [
    ">\n",
    "#### Sections' statistics"
   ]
  },
  {
   "cell_type": "code",
   "execution_count": null,
   "id": "63f7b2e8-ff86-462a-8449-30a8a0a38d46",
   "metadata": {},
   "outputs": [],
   "source": [
    "sec_margins = [[1,1],[1,1],[1,1],[1,1]] # <--- sections' margins (seconds)\n",
    "\n",
    "xwspectr_aggr_top_stats = sc.ptdata.secstats( xwspectr_aggr_top, margins=sec_margins, last=True )\n",
    "xwspectr_aggr_top_stats.visualise( statistics='mean' )\n",
    "print('means =','['+', '.join([str(v) for v in np.round(xwspectr_aggr_top_stats.data[0][0],3)])+']')\n",
    "\n",
    "import matplotlib.pyplot as plt\n",
    "plt.xlim((-0.2,3.2))\n",
    "plt.xticks((0,1,2,3),('0','1','2','3'),fontsize=12);"
   ]
  }
 ],
 "metadata": {
  "kernelspec": {
   "display_name": "Python 3 (ipykernel)",
   "language": "python",
   "name": "python3"
  },
  "language_info": {
   "codemirror_mode": {
    "name": "ipython",
    "version": 3
   },
   "file_extension": ".py",
   "mimetype": "text/x-python",
   "name": "python",
   "nbconvert_exporter": "python",
   "pygments_lexer": "ipython3",
   "version": "3.11.11"
  }
 },
 "nbformat": 4,
 "nbformat_minor": 5
}
