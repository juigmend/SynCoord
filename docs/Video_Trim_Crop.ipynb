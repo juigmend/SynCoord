{
 "cells": [
  {
   "cell_type": "markdown",
   "metadata": {
    "colab_type": "text",
    "id": "ZMUdgWmTFWEs"
   },
   "source": [
    "<center>\n",
    "\n",
    "*******************************************************************************************\n",
    "\n",
    "### Trim and Crop Video\n",
    "\n",
    "##### 12 May 2025\n",
    "\n",
    "##### Juan Ignacio Mendoza Garay\n",
    "\n",
    "*******************************************************************************************\n",
    "\n",
    "</center>\n",
    "\n",
    "##### INFORMATION:\n",
    "\n",
    "\n",
    ">\n",
    "* Dependency:\n",
    "\n",
    "    * [ffmpeg](https://www.ffmpeg.org/download.html)\n",
    ">\n",
    "* Instructions:\n",
    "\n",
    "    Edit the values indicated with an arrow like this: <---\n",
    "\n",
    "*******************************************************************************************"
   ]
  },
  {
   "cell_type": "code",
   "execution_count": 1,
   "metadata": {},
   "outputs": [],
   "source": [
    "import sys\n",
    "\n",
    "sys.path.append(r\"../src\")\n",
    "import syncoord as sc"
   ]
  },
  {
   "cell_type": "markdown",
   "metadata": {},
   "source": [
    "***\n",
    "### Set paths and parameters"
   ]
  },
  {
   "cell_type": "code",
   "execution_count": null,
   "metadata": {},
   "outputs": [],
   "source": [
    "project_path = r\"../data/string_quartet_Ecossaise\"\n",
    "path_in = project_path + r\"/input_video\"          # <--- input video file name or folder\n",
    "path_out = path_in + r\"/tropped\"                  # <--- output video file name or folder\n",
    "# If path_in or path_out are a folder, the name of the resulting files will be the same as input files\n",
    "\n",
    "skip_done = True          # <--- skip if the output file exists\n",
    "lbl = '--auto'            # <--- suffix for the output file's name, or '--auto', or None\n",
    "trim = [0,5]              # <--- [start,end] in seconds, or None\n",
    "crop = '1000:480:140:300' # <--- 'width:height:right:down' in pixels, or None"
   ]
  },
  {
   "cell_type": "markdown",
   "metadata": {},
   "source": [
    "***\n",
    "### Trop (trim & crop :)"
   ]
  },
  {
   "cell_type": "code",
   "execution_count": null,
   "metadata": {},
   "outputs": [],
   "source": [
    "sc.video.trop(path_in, path_out, trim=trim, crop=crop, skip_done=skip_done, lbl=lbl)"
   ]
  }
 ],
 "metadata": {
  "accelerator": "GPU",
  "colab": {
   "collapsed_sections": [],
   "name": "AlphaPoseV0.3.0.ipynb",
   "provenance": []
  },
  "kernelspec": {
   "display_name": "Python 3 (ipykernel)",
   "language": "python",
   "name": "python3"
  },
  "language_info": {
   "codemirror_mode": {
    "name": "ipython",
    "version": 3
   },
   "file_extension": ".py",
   "mimetype": "text/x-python",
   "name": "python",
   "nbconvert_exporter": "python",
   "pygments_lexer": "ipython3",
   "version": "3.11.11"
  }
 },
 "nbformat": 4,
 "nbformat_minor": 4
}
