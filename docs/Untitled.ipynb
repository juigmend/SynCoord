{
 "cells": [
  {
   "cell_type": "code",
   "execution_count": null,
   "id": "1e5af918-e286-46c8-9f35-f74decbc22e9",
   "metadata": {},
   "outputs": [],
   "source": [
    "'cont' for either 'func' 'secstats' or 'corr', not both"
   ]
  }
 ],
 "metadata": {
  "kernelspec": {
   "display_name": "Python 3 (ipykernel)",
   "language": "python",
   "name": "python3"
  },
  "language_info": {
   "codemirror_mode": {
    "name": "ipython",
    "version": 3
   },
   "file_extension": ".py",
   "mimetype": "text/x-python",
   "name": "python",
   "nbconvert_exporter": "python",
   "pygments_lexer": "ipython3",
   "version": "3.11.11"
  }
 },
 "nbformat": 4,
 "nbformat_minor": 5
}
